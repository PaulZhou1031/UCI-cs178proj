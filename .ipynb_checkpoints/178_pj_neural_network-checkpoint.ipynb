{
 "cells": [
  {
   "cell_type": "code",
   "execution_count": 1,
   "id": "ef91c060",
   "metadata": {},
   "outputs": [],
   "source": [
    "from sklearn.neural_network import MLPClassifier\n",
    "from sklearn.model_selection import train_test_split\n",
    "from sklearn.preprocessing import StandardScaler\n",
    "\n",
    "import numpy as np\n",
    "import matplotlib.pyplot as plt\n",
    "seed = 1234\n",
    "np.random.seed(seed)"
   ]
  },
  {
   "cell_type": "code",
   "execution_count": 2,
   "id": "2847f0ac",
   "metadata": {},
   "outputs": [],
   "source": [
    "def unpickle(file):\n",
    "    import pickle\n",
    "    with open(file, 'rb') as fo:\n",
    "        dict = pickle.load(fo, encoding='bytes')\n",
    "    return dict"
   ]
  },
  {
   "cell_type": "markdown",
   "id": "ac2ba7df",
   "metadata": {},
   "source": [
    "## Use smaller dataset to train model by neural network\n",
    "We use 5000 matrixs as training data and 5000 matrixs as validating data to test our model. "
   ]
  },
  {
   "cell_type": "code",
   "execution_count": 17,
   "id": "23f5b3bd",
   "metadata": {},
   "outputs": [],
   "source": [
    "# read file get X, y, testing X, testing y\n",
    "original = unpickle(\"cifar-10-batches-py/data_batch_1\")\n",
    "Label_names = unpickle(\"cifar-10-batches-py/batches.meta\")\n",
    "y = original[b'labels']\n",
    "X = original[b'data']\n",
    "test_data = unpickle(\"cifar-10-batches-py/test_batch\")\n",
    "X_te = test_data[b'data']\n",
    "y_te = test_data[b'labels']\n",
    "# print(X_te)"
   ]
  },
  {
   "cell_type": "code",
   "execution_count": 18,
   "id": "75316162",
   "metadata": {},
   "outputs": [],
   "source": [
    "# regulate X and testing X\n",
    "scaler = StandardScaler()\n",
    "scaler.fit(X)\n",
    "\n",
    "X = scaler.transform(X)\n",
    "X_te= scaler.transform(X_te)\n",
    "\n"
   ]
  },
  {
   "cell_type": "code",
   "execution_count": 19,
   "id": "ef33cfb1",
   "metadata": {},
   "outputs": [],
   "source": [
    "# seperate X to training data X_tr, y_tr and validating data X_val, y_val\n",
    "X_tr, y_tr = X[:5000], y[:5000]\n",
    "X_val, y_val = X[5000:10000], y[5000:10000]"
   ]
  },
  {
   "cell_type": "code",
   "execution_count": 20,
   "id": "46895824",
   "metadata": {},
   "outputs": [
    {
     "name": "stdout",
     "output_type": "stream",
     "text": [
      "training score is 1.0 ; validating score is 0.3964 hidden layer size is (100, 100, 100, 100)\n",
      "training score is 1.0 ; validating score is 0.4046 hidden layer size is (100, 100, 100, 100, 100)\n"
     ]
    }
   ],
   "source": [
    "# checking accuracy score of hidden layers on mlp\n",
    "hidden_sizes = [(100, 100,100,100), (100, 100, 100, 100, 100)]\n",
    "tr_scores = []\n",
    "val_scores = []\n",
    "for i in hidden_sizes:\n",
    "    mlp = MLPClassifier(hidden_layer_sizes=i, alpha=0.001, activation=\"relu\")\n",
    "    mlp.fit(X_tr, y_tr)\n",
    "    tr_score = mlp.score(X_tr, y_tr)\n",
    "    val_score = mlp.score(X_val, y_val)\n",
    "    tr_scores.append(tr_score)\n",
    "    val_scores.append(val_score)\n",
    "    print(\"training score is\", tr_score,\"; validating score is\", val_score,\n",
    "                  \"hidden layer size is\", i)"
   ]
  },
  {
   "cell_type": "code",
   "execution_count": 24,
   "id": "b64d2ab8",
   "metadata": {},
   "outputs": [
    {
     "name": "stdout",
     "output_type": "stream",
     "text": [
      "training score is 0.9772 ; validating score is 0.3892 hidden layer size is (100, 100, 100, 100, 100); alpha is 0.001; batch_size is 100\n",
      "training score is 1.0 ; validating score is 0.4098 hidden layer size is (100, 100, 100, 100, 100); alpha is 0.001; batch_size is 200\n",
      "training score is 1.0 ; validating score is 0.395 hidden layer size is (100, 100, 100, 100, 100); alpha is 0.001; batch_size is 500\n",
      "training score is 1.0 ; validating score is 0.3846 hidden layer size is (100, 100, 100, 100, 100); alpha is 0.001; batch_size is 1000\n"
     ]
    },
    {
     "data": {
      "text/plain": [
       "<matplotlib.legend.Legend at 0x7fba90091930>"
      ]
     },
     "execution_count": 24,
     "metadata": {},
     "output_type": "execute_result"
    },
    {
     "data": {
      "image/png": "[encoded data removed]",
      "text/plain": [
       "<Figure size 640x480 with 1 Axes>"
      ]
     },
     "metadata": {},
     "output_type": "display_data"
    }
   ],
   "source": [
    "# find best accuracy score of batch size on mlp\n",
    "batch_sizes = [100, 200, 500, 1000]\n",
    "tr_scores = []\n",
    "val_scores = []\n",
    "for i in batch_sizes:\n",
    "    mlp = MLPClassifier(hidden_layer_sizes=(100, 100, 100, 100, 100), alpha=0.001, batch_size = i, activation='relu')\n",
    "    mlp.fit(X_tr, y_tr)\n",
    "    tr_score = mlp.score(X_tr, y_tr)\n",
    "    val_score = mlp.score(X_val, y_val)\n",
    "    tr_scores.append(tr_score)\n",
    "    val_scores.append(val_score)\n",
    "    print(\"training score is\", tr_score,\"; validating score is\", val_score,\n",
    "                  \"hidden layer size is (100, 100, 100, 100, 100); alpha is 0.001; batch_size is\", i)\n",
    "#draw graph\n",
    "fig, axes = plt.subplots()\n",
    "axes.plot(batch_sizes, tr_scores, color='red', label='training score')\n",
    "axes.plot(batch_sizes, val_scores, color='blue', label ='validating score')\n",
    "axes.set_xlabel(\"batch size\")\n",
    "axes.set_ylabel('accuracy score')\n",
    "axes.legend()"
   ]
  },
  {
   "cell_type": "code",
   "execution_count": 25,
   "id": "f1d7b014",
   "metadata": {},
   "outputs": [
    {
     "name": "stdout",
     "output_type": "stream",
     "text": [
      "training score is 1.0 ; validating score is 0.379 hidden layer size is (100, 100, 100, 100, 100); alpha is 0.001; learning rate is 0.0001\n",
      "training score is 1.0 ; validating score is 0.4068 hidden layer size is (100, 100, 100, 100, 100); alpha is 0.001; learning rate is 0.001\n",
      "training score is 0.8598 ; validating score is 0.3756 hidden layer size is (100, 100, 100, 100, 100); alpha is 0.001; learning rate is 0.01\n"
     ]
    },
    {
     "data": {
      "text/plain": [
       "<matplotlib.legend.Legend at 0x7fba900de4a0>"
      ]
     },
     "execution_count": 25,
     "metadata": {},
     "output_type": "execute_result"
    },
    {
     "data": {
      "image/png": "[encoded data removed]",
      "text/plain": [
       "<Figure size 640x480 with 1 Axes>"
      ]
     },
     "metadata": {},
     "output_type": "display_data"
    }
   ],
   "source": [
    "# find best accuracy score of learning rate on mlp\n",
    "learning_rate = [0.0001, 0.001, 0.01]\n",
    "tr_scores = []\n",
    "val_scores = []\n",
    "for i in learning_rate:\n",
    "    mlp = MLPClassifier(hidden_layer_sizes=(100, 100, 100, 100, 100), alpha=0.001, learning_rate_init = i, activation='relu',\n",
    "                       max_iter = 400)\n",
    "    mlp.fit(X_tr, y_tr)\n",
    "    tr_score = mlp.score(X_tr, y_tr)\n",
    "    val_score = mlp.score(X_val, y_val)\n",
    "    tr_scores.append(tr_score)\n",
    "    val_scores.append(val_score)\n",
    "    print(\"training score is\", tr_score,\"; validating score is\", val_score,\n",
    "                  \"hidden layer size is (100, 100, 100, 100, 100); alpha is 0.001; learning rate is\", i)\n",
    "\n",
    "#draw graph\n",
    "fig, axes = plt.subplots()\n",
    "axes.plot(learning_rate, tr_scores, color='red', label='training score')\n",
    "axes.plot(learning_rate, val_scores, color='blue', label ='validating score')\n",
    "axes.set_xlabel(\"learning rate\")\n",
    "axes.set_ylabel('accuracy score')\n",
    "axes.legend()"
   ]
  },
  {
   "cell_type": "code",
   "execution_count": 26,
   "id": "6021e652",
   "metadata": {},
   "outputs": [
    {
     "name": "stdout",
     "output_type": "stream",
     "text": [
      "0.3879\n"
     ]
    }
   ],
   "source": [
    "# testing data accuracy score\n",
    "mlp = MLPClassifier(hidden_layer_sizes=(100, 100, 100, 100, 100), alpha=0.001, activation='relu',random_state=seed)\n",
    "mlp.fit(X_tr, y_tr)\n",
    "print(mlp.score(X_te, y_te))"
   ]
  },
  {
   "cell_type": "markdown",
   "id": "d5ef51e3",
   "metadata": {},
   "source": [
    "## Use larger training data to check the accuracy rate increase or not \n",
    " We use 10000 matrixs as training data and 10000 matrixs as validating data to train the model by neural network\n",
    " "
   ]
  },
  {
   "cell_type": "code",
   "execution_count": 15,
   "id": "649da4d3",
   "metadata": {},
   "outputs": [],
   "source": [
    "# use large training data and validating data\n",
    "# training data num:10000, validating data: 10000\n",
    "# read file get X, y, testing X, testing y, validating X, validating y\n",
    "X1 = unpickle(\"cifar-10-batches-py/data_batch_1\")\n",
    "Label_names = unpickle(\"cifar-10-batches-py/batches.meta\")\n",
    "y_tr = X1[b'labels']\n",
    "X_tr = X1[b'data']\n",
    "\n",
    "X2 = unpickle(\"cifar-10-batches-py/data_batch_2\")\n",
    "X_val = X2[b'data']\n",
    "y_val = X2[b'labels']\n",
    "\n",
    "test_data = unpickle(\"cifar-10-batches-py/test_batch\")\n",
    "X_te = test_data[b'data']\n",
    "y_te = test_data[b'labels']"
   ]
  },
  {
   "cell_type": "code",
   "execution_count": 17,
   "id": "cdffccbb",
   "metadata": {},
   "outputs": [
    {
     "name": "stdout",
     "output_type": "stream",
     "text": [
      "(10000, 3072) 10000\n",
      "(10000, 3072) 10000\n"
     ]
    }
   ],
   "source": [
    "print(X_tr.shape, len(y_tr))\n",
    "print(X_val.shape, len(y_val))"
   ]
  },
  {
   "cell_type": "code",
   "execution_count": 16,
   "id": "5440e7a6",
   "metadata": {},
   "outputs": [],
   "source": [
    "# regulate training X, validating X, and testing X\n",
    "scaler = StandardScaler()\n",
    "scaler.fit(X_tr)\n",
    "\n",
    "X_tr = scaler.transform(X_tr)\n",
    "X_val = scaler.transform(X_val)\n",
    "X_te= scaler.transform(X_te)\n"
   ]
  },
  {
   "cell_type": "code",
   "execution_count": 18,
   "id": "750c76a3",
   "metadata": {},
   "outputs": [
    {
     "name": "stdout",
     "output_type": "stream",
     "text": [
      "training score is 1.0 ; validating score is 0.4234 hidden layer size is (100, 100, 100, 100)\n",
      "training score is 1.0 ; validating score is 0.4198 hidden layer size is (100, 100, 100)\n"
     ]
    }
   ],
   "source": [
    "# checking accuracy score of hidden layers on mlp\n",
    "hidden_sizes = [(100, 100,100,100), (100, 100, 100)]\n",
    "tr_scores = []\n",
    "val_scores = []\n",
    "for i in hidden_sizes:\n",
    "    mlp = MLPClassifier(hidden_layer_sizes=i, alpha=0.001, activation=\"relu\")\n",
    "    mlp.fit(X_tr, y_tr)\n",
    "    tr_score = mlp.score(X_tr, y_tr)\n",
    "    val_score = mlp.score(X_val, y_val)\n",
    "    tr_scores.append(tr_score)\n",
    "    val_scores.append(val_score)\n",
    "    print(\"training score is\", tr_score,\"; validating score is\", val_score,\n",
    "               \"hidden layer size is\", i)"
   ]
  },
  {
   "cell_type": "code",
   "execution_count": 19,
   "id": "e9f1b11f",
   "metadata": {},
   "outputs": [
    {
     "name": "stdout",
     "output_type": "stream",
     "text": [
      "0.4308\n"
     ]
    }
   ],
   "source": [
    "# get the testing accuracy score\n",
    "mlp = MLPClassifier(hidden_layer_sizes=(100, 100, 100, 100), alpha=0.001, activation=\"relu\")\n",
    "mlp.fit(X_tr, y_tr)\n",
    "print(mlp.score(X_te, y_te))"
   ]
  }
 ],
 "metadata": {
  "kernelspec": {
   "display_name": "Python 3 (ipykernel)",
   "language": "python",
   "name": "python3"
  },
  "language_info": {
   "codemirror_mode": {
    "name": "ipython",
    "version": 3
   },
   "file_extension": ".py",
   "mimetype": "text/x-python",
   "name": "python",
   "nbconvert_exporter": "python",
   "pygments_lexer": "ipython3",
   "version": "3.10.6"
  }
 },
 "nbformat": 4,
 "nbformat_minor": 5
}
