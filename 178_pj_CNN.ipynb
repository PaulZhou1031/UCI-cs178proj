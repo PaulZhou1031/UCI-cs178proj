{
 "cells": [
  {
   "cell_type": "code",
   "execution_count": 5,
   "id": "44cf6202",
   "metadata": {},
   "outputs": [
    {
     "name": "stdout",
     "output_type": "stream",
     "text": [
      "Tensorflow version: 2.9.1\n",
      "Keras version: 2.9.0\n"
     ]
    }
   ],
   "source": [
    "import numpy as np\n",
    "import matplotlib.pyplot as plt\n",
    "%matplotlib inline\n",
    "import keras\n",
    "import tensorflow as tf\n",
    "\n",
    "from tensorflow import keras\n",
    "from keras.models import Sequential\n",
    "from tensorflow.keras.layers import Input, Conv2D, Dense, Flatten, Dropout\n",
    "from tensorflow.keras.layers import GlobalMaxPooling2D, MaxPooling2D\n",
    "from tensorflow.keras.layers import BatchNormalization\n",
    "from tensorflow.keras.models import Model\n",
    "from tensorflow.keras import regularizers, optimizers\n",
    "from tensorflow.keras.utils import to_categorical\n",
    "from sklearn.metrics import accuracy_score\n",
    "\n",
    "import warnings\n",
    "warnings.filterwarnings('ignore')\n",
    "\n",
    "print(\"Tensorflow version:\",tf.__version__)\n",
    "print(\"Keras version:\",keras.__version__)"
   ]
  },
  {
   "cell_type": "code",
   "execution_count": 6,
   "id": "d231c52f",
   "metadata": {},
   "outputs": [
    {
     "name": "stdout",
     "output_type": "stream",
     "text": [
      "Downloading data from https://www.cs.toronto.edu/~kriz/cifar-10-python.tar.gz\n",
      "170498071/170498071 [==============================] - 86s 1us/step\n"
     ]
    }
   ],
   "source": [
    "from tensorflow.keras.datasets import cifar10\n",
    "(X_train, Y_train), (X_test, Y_test) = cifar10.load_data()\n"
   ]
  },
  {
   "cell_type": "code",
   "execution_count": 7,
   "id": "591545fa",
   "metadata": {},
   "outputs": [
    {
     "name": "stdout",
     "output_type": "stream",
     "text": [
      "(50000, 32, 32, 3) (50000, 1) (10000, 32, 32, 3) (10000, 1)\n"
     ]
    }
   ],
   "source": [
    "print(X_train.shape, Y_train.shape, X_test.shape, Y_test.shape)"
   ]
  },
  {
   "cell_type": "code",
   "execution_count": 3,
   "id": "dceea4f5",
   "metadata": {},
   "outputs": [],
   "source": [
    "# Normalizing\n",
    "X_train = X_train/255\n",
    "X_test = X_test/255\n",
    "# One-Hot-Encoding\n",
    "Y_train_en = to_categorical(Y_train,10)\n",
    "Y_test_en = to_categorical(Y_test,10)"
   ]
  },
  {
   "cell_type": "code",
   "execution_count": 5,
   "id": "a4b52019",
   "metadata": {},
   "outputs": [
    {
     "name": "stderr",
     "output_type": "stream",
     "text": [
      "2022-12-02 15:52:37.810351: I tensorflow/core/platform/cpu_feature_guard.cc:193] This TensorFlow binary is optimized with oneAPI Deep Neural Network Library (oneDNN) to use the following CPU instructions in performance-critical operations:  AVX2 FMA\n",
      "To enable them in other operations, rebuild TensorFlow with the appropriate compiler flags.\n"
     ]
    }
   ],
   "source": [
    "model = Sequential()\n",
    "model.add(Conv2D(32,(4,4),input_shape = (32,32,3),activation='relu'))\n",
    "model.add(MaxPooling2D(pool_size = (2,2)))\n",
    "model.add(Conv2D(32,(4,4),input_shape = (32,32,3),activation='relu'))\n",
    "model.add(MaxPooling2D(pool_size = (2,2)))\n",
    "model.add(Flatten())\n",
    "model.add(Dense(128, activation ='relu'))\n",
    "model.add(Dense(10, activation ='softmax'))\n",
    "model.compile(loss ='categorical_crossentropy', optimizer ='adam', metrics =['accuracy'])"
   ]
  },
  {
   "cell_type": "code",
   "execution_count": 6,
   "id": "e448f2a3",
   "metadata": {},
   "outputs": [
    {
     "name": "stdout",
     "output_type": "stream",
     "text": [
      "Model: \"sequential\"\n",
      "_________________________________________________________________\n",
      " Layer (type)                Output Shape              Param #   \n",
      "=================================================================\n",
      " conv2d (Conv2D)             (None, 29, 29, 32)        1568      \n",
      "                                                                 \n",
      " max_pooling2d (MaxPooling2D  (None, 14, 14, 32)       0         \n",
      " )                                                               \n",
      "                                                                 \n",
      " conv2d_1 (Conv2D)           (None, 11, 11, 32)        16416     \n",
      "                                                                 \n",
      " max_pooling2d_1 (MaxPooling  (None, 5, 5, 32)         0         \n",
      " 2D)                                                             \n",
      "                                                                 \n",
      " flatten (Flatten)           (None, 800)               0         \n",
      "                                                                 \n",
      " dense (Dense)               (None, 128)               102528    \n",
      "                                                                 \n",
      " dense_1 (Dense)             (None, 10)                1290      \n",
      "                                                                 \n",
      "=================================================================\n",
      "Total params: 121,802\n",
      "Trainable params: 121,802\n",
      "Non-trainable params: 0\n",
      "_________________________________________________________________\n",
      "Epoch 1/20\n",
      "1563/1563 [==============================] - 28s 17ms/step - loss: 1.5370 - accuracy: 0.4424 - val_loss: 1.4239 - val_accuracy: 0.4938\n",
      "Epoch 2/20\n",
      "1563/1563 [==============================] - 27s 17ms/step - loss: 1.2234 - accuracy: 0.5696 - val_loss: 1.1969 - val_accuracy: 0.5801\n",
      "Epoch 3/20\n",
      "1563/1563 [==============================] - 29s 19ms/step - loss: 1.0867 - accuracy: 0.6179 - val_loss: 1.0858 - val_accuracy: 0.6194\n",
      "Epoch 4/20\n",
      "1563/1563 [==============================] - 29s 19ms/step - loss: 0.9957 - accuracy: 0.6513 - val_loss: 1.0308 - val_accuracy: 0.6424\n",
      "Epoch 5/20\n",
      "1563/1563 [==============================] - 25s 16ms/step - loss: 0.9211 - accuracy: 0.6781 - val_loss: 1.0586 - val_accuracy: 0.6285\n",
      "Epoch 6/20\n",
      "1563/1563 [==============================] - 26s 17ms/step - loss: 0.8511 - accuracy: 0.7032 - val_loss: 0.9536 - val_accuracy: 0.6705\n",
      "Epoch 7/20\n",
      "1563/1563 [==============================] - 26s 17ms/step - loss: 0.7961 - accuracy: 0.7229 - val_loss: 0.9651 - val_accuracy: 0.6704\n",
      "Epoch 8/20\n",
      "1563/1563 [==============================] - 25s 16ms/step - loss: 0.7549 - accuracy: 0.7362 - val_loss: 0.9691 - val_accuracy: 0.6709\n",
      "Epoch 9/20\n",
      "1563/1563 [==============================] - 25s 16ms/step - loss: 0.7116 - accuracy: 0.7510 - val_loss: 0.9797 - val_accuracy: 0.6739\n",
      "Epoch 10/20\n",
      "1563/1563 [==============================] - 25s 16ms/step - loss: 0.6704 - accuracy: 0.7637 - val_loss: 0.9674 - val_accuracy: 0.6806\n",
      "Epoch 11/20\n",
      "1563/1563 [==============================] - 25s 16ms/step - loss: 0.6310 - accuracy: 0.7785 - val_loss: 0.9342 - val_accuracy: 0.6905\n",
      "Epoch 12/20\n",
      "1563/1563 [==============================] - 25s 16ms/step - loss: 0.5947 - accuracy: 0.7898 - val_loss: 1.0009 - val_accuracy: 0.6798\n",
      "Epoch 13/20\n",
      "1563/1563 [==============================] - 25s 16ms/step - loss: 0.5656 - accuracy: 0.8018 - val_loss: 0.9938 - val_accuracy: 0.6821\n",
      "Epoch 14/20\n",
      "1563/1563 [==============================] - 25s 16ms/step - loss: 0.5296 - accuracy: 0.8136 - val_loss: 1.0576 - val_accuracy: 0.6768\n",
      "Epoch 15/20\n",
      "1563/1563 [==============================] - 25s 16ms/step - loss: 0.5060 - accuracy: 0.8213 - val_loss: 1.0897 - val_accuracy: 0.6712\n",
      "Epoch 16/20\n",
      "1563/1563 [==============================] - 25s 16ms/step - loss: 0.4770 - accuracy: 0.8330 - val_loss: 1.1118 - val_accuracy: 0.6764\n",
      "Epoch 17/20\n",
      "1563/1563 [==============================] - 26s 17ms/step - loss: 0.4498 - accuracy: 0.8413 - val_loss: 1.1038 - val_accuracy: 0.6814\n",
      "Epoch 18/20\n",
      "1563/1563 [==============================] - 26s 16ms/step - loss: 0.4323 - accuracy: 0.8472 - val_loss: 1.1496 - val_accuracy: 0.6805\n",
      "Epoch 19/20\n",
      "1563/1563 [==============================] - 26s 17ms/step - loss: 0.4102 - accuracy: 0.8513 - val_loss: 1.2052 - val_accuracy: 0.6785\n",
      "Epoch 20/20\n",
      "1563/1563 [==============================] - 25s 16ms/step - loss: 0.3830 - accuracy: 0.8623 - val_loss: 1.2357 - val_accuracy: 0.6731\n"
     ]
    }
   ],
   "source": [
    "model.summary()\n",
    "history = model.fit(X_train, Y_train_en, epochs = 20, verbose=1,validation_data=(X_test,Y_test_en))"
   ]
  },
  {
   "cell_type": "code",
   "execution_count": 8,
   "id": "685aded8",
   "metadata": {},
   "outputs": [],
   "source": [
    "# Model_1 with Dropouts\n",
    "model_1 = Sequential()\n",
    "model_1.add(Conv2D(64,(4,4),input_shape=(32,32,3),activation='relu'))\n",
    "model_1.add(MaxPooling2D(pool_size=(2,2)))\n",
    "model_1.add(Dropout(0.5))\n",
    "model_1.add(Conv2D(64,(4,4),input_shape=(32,32,3),activation='relu'))\n",
    "model_1.add(MaxPooling2D(pool_size=(2,2)))\n",
    "model_1.add(Dropout(0.25))\n",
    "model_1.add(Flatten())\n",
    "model_1.add(Dense(256,activation='relu'))\n",
    "model_1.add(Dense(10,activation='softmax'))\n",
    "model_1.compile(loss='categorical_crossentropy',optimizer='adam',metrics=['accuracy'])"
   ]
  },
  {
   "cell_type": "code",
   "execution_count": 9,
   "id": "4d7f2471",
   "metadata": {},
   "outputs": [
    {
     "name": "stdout",
     "output_type": "stream",
     "text": [
      "Model: \"sequential_1\"\n",
      "_________________________________________________________________\n",
      " Layer (type)                Output Shape              Param #   \n",
      "=================================================================\n",
      " conv2d_2 (Conv2D)           (None, 29, 29, 64)        3136      \n",
      "                                                                 \n",
      " max_pooling2d_2 (MaxPooling  (None, 14, 14, 64)       0         \n",
      " 2D)                                                             \n",
      "                                                                 \n",
      " dropout (Dropout)           (None, 14, 14, 64)        0         \n",
      "                                                                 \n",
      " conv2d_3 (Conv2D)           (None, 11, 11, 64)        65600     \n",
      "                                                                 \n",
      " max_pooling2d_3 (MaxPooling  (None, 5, 5, 64)         0         \n",
      " 2D)                                                             \n",
      "                                                                 \n",
      " dropout_1 (Dropout)         (None, 5, 5, 64)          0         \n",
      "                                                                 \n",
      " flatten_1 (Flatten)         (None, 1600)              0         \n",
      "                                                                 \n",
      " dense_2 (Dense)             (None, 256)               409856    \n",
      "                                                                 \n",
      " dense_3 (Dense)             (None, 10)                2570      \n",
      "                                                                 \n",
      "=================================================================\n",
      "Total params: 481,162\n",
      "Trainable params: 481,162\n",
      "Non-trainable params: 0\n",
      "_________________________________________________________________\n",
      "Epoch 1/20\n",
      "1563/1563 [==============================] - 69s 43ms/step - loss: 1.5568 - accuracy: 0.4339 - val_loss: 1.2736 - val_accuracy: 0.5484\n",
      "Epoch 2/20\n",
      "1563/1563 [==============================] - 66s 42ms/step - loss: 1.2387 - accuracy: 0.5617 - val_loss: 1.1652 - val_accuracy: 0.5997\n",
      "Epoch 3/20\n",
      "1563/1563 [==============================] - 64s 41ms/step - loss: 1.1047 - accuracy: 0.6093 - val_loss: 1.0422 - val_accuracy: 0.6461\n",
      "Epoch 4/20\n",
      "1563/1563 [==============================] - 66s 42ms/step - loss: 1.0124 - accuracy: 0.6449 - val_loss: 0.9557 - val_accuracy: 0.6714\n",
      "Epoch 5/20\n",
      "1563/1563 [==============================] - 66s 42ms/step - loss: 0.9401 - accuracy: 0.6703 - val_loss: 0.9604 - val_accuracy: 0.6658\n",
      "Epoch 6/20\n",
      "1563/1563 [==============================] - 67s 43ms/step - loss: 0.8909 - accuracy: 0.6873 - val_loss: 0.9027 - val_accuracy: 0.6909\n",
      "Epoch 7/20\n",
      "1563/1563 [==============================] - 66s 42ms/step - loss: 0.8415 - accuracy: 0.7044 - val_loss: 0.8795 - val_accuracy: 0.6951\n",
      "Epoch 8/20\n",
      "1563/1563 [==============================] - 64s 41ms/step - loss: 0.8009 - accuracy: 0.7176 - val_loss: 0.8819 - val_accuracy: 0.6965\n",
      "Epoch 9/20\n",
      "1563/1563 [==============================] - 64s 41ms/step - loss: 0.7635 - accuracy: 0.7322 - val_loss: 0.8665 - val_accuracy: 0.7062\n",
      "Epoch 10/20\n",
      "1563/1563 [==============================] - 64s 41ms/step - loss: 0.7369 - accuracy: 0.7415 - val_loss: 0.8483 - val_accuracy: 0.7133\n",
      "Epoch 11/20\n",
      "1563/1563 [==============================] - 64s 41ms/step - loss: 0.7031 - accuracy: 0.7518 - val_loss: 0.8621 - val_accuracy: 0.7094\n",
      "Epoch 12/20\n",
      "1563/1563 [==============================] - 64s 41ms/step - loss: 0.6853 - accuracy: 0.7590 - val_loss: 0.8748 - val_accuracy: 0.7042\n",
      "Epoch 13/20\n",
      "1563/1563 [==============================] - 64s 41ms/step - loss: 0.6600 - accuracy: 0.7684 - val_loss: 0.8997 - val_accuracy: 0.6993\n",
      "Epoch 14/20\n",
      "1563/1563 [==============================] - 68s 44ms/step - loss: 0.6426 - accuracy: 0.7738 - val_loss: 0.9083 - val_accuracy: 0.7016\n",
      "Epoch 15/20\n",
      "1563/1563 [==============================] - 71s 46ms/step - loss: 0.6205 - accuracy: 0.7808 - val_loss: 0.9225 - val_accuracy: 0.6954\n",
      "Epoch 16/20\n",
      "1563/1563 [==============================] - 66s 42ms/step - loss: 0.6088 - accuracy: 0.7870 - val_loss: 0.8956 - val_accuracy: 0.7091\n",
      "Epoch 17/20\n",
      "1563/1563 [==============================] - 59s 38ms/step - loss: 0.5884 - accuracy: 0.7925 - val_loss: 0.8884 - val_accuracy: 0.7121\n",
      "Epoch 18/20\n",
      "1563/1563 [==============================] - 64s 41ms/step - loss: 0.5750 - accuracy: 0.7971 - val_loss: 0.8902 - val_accuracy: 0.7139\n",
      "Epoch 19/20\n",
      "1563/1563 [==============================] - 66s 42ms/step - loss: 0.5602 - accuracy: 0.8016 - val_loss: 0.9093 - val_accuracy: 0.7037\n",
      "Epoch 20/20\n",
      "1563/1563 [==============================] - 61s 39ms/step - loss: 0.5531 - accuracy: 0.8066 - val_loss: 0.9068 - val_accuracy: 0.7164\n"
     ]
    }
   ],
   "source": [
    "model_1.summary()\n",
    "history = model_1.fit(X_train, Y_train_en, epochs = 20, verbose=1,validation_data=(X_test,Y_test_en))"
   ]
  },
  {
   "cell_type": "code",
   "execution_count": null,
   "id": "22fc2d47",
   "metadata": {},
   "outputs": [],
   "source": []
  }
 ],
 "metadata": {
  "kernelspec": {
   "display_name": "Python 3 (ipykernel)",
   "language": "python",
   "name": "python3"
  },
  "language_info": {
   "codemirror_mode": {
    "name": "ipython",
    "version": 3
   },
   "file_extension": ".py",
   "mimetype": "text/x-python",
   "name": "python",
   "nbconvert_exporter": "python",
   "pygments_lexer": "ipython3",
   "version": "3.10.6"
  }
 },
 "nbformat": 4,
 "nbformat_minor": 5
}
